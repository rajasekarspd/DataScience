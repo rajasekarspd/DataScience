{
 "cells": [
  {
   "cell_type": "markdown",
   "metadata": {},
   "source": [
    "# <center> Emotional Analysis Implementation using GloVe"
   ]
  },
  {
   "cell_type": "code",
   "execution_count": 4,
   "metadata": {},
   "outputs": [],
   "source": [
    "#import python packages\n",
    "import pandas as pd\n",
    "import numpy as np\n",
    "import re\n",
    "\n",
    "#import graph packages\n",
    "%matplotlib inline\n",
    "import matplotlib.pyplot as plt\n",
    "import seaborn as b\n",
    "\n",
    "#NLP packages\n",
    "import nltk\n",
    "from nltk.corpus import stopwords\n",
    "stop_words = stopwords.words('english')\n",
    "from nltk.stem import WordNetLemmatizer\n",
    "\n",
    "#Model packages\n",
    "import keras\n",
    "from keras.preprocessing.text import Tokenizer\n",
    "from keras.preprocessing.sequence import pad_sequences\n",
    "from keras.models import Sequential\n",
    "from keras.layers import Embedding, LSTM, Bidirectional, Flatten, GlobalMaxPool1D, Dense, Dropout\n",
    "from keras.optimizers import Adam\n",
    "from keras.callbacks import ModelCheckpoint, EarlyStopping\n",
    "from sklearn.model_selection import train_test_split\n",
    "from sklearn.preprocessing import LabelEncoder\n",
    "from sklearn.metrics import roc_auc_score\n",
    "\n",
    "import warnings\n",
    "warnings.filterwarnings('ignore')"
   ]
  },
  {
   "cell_type": "code",
   "execution_count": 3,
   "metadata": {},
   "outputs": [
    {
     "data": {
      "text/html": [
       "<div>\n",
       "<style scoped>\n",
       "    .dataframe tbody tr th:only-of-type {\n",
       "        vertical-align: middle;\n",
       "    }\n",
       "\n",
       "    .dataframe tbody tr th {\n",
       "        vertical-align: top;\n",
       "    }\n",
       "\n",
       "    .dataframe thead th {\n",
       "        text-align: right;\n",
       "    }\n",
       "</style>\n",
       "<table border=\"1\" class=\"dataframe\">\n",
       "  <thead>\n",
       "    <tr style=\"text-align: right;\">\n",
       "      <th></th>\n",
       "      <th>tweet_id</th>\n",
       "      <th>sentiment</th>\n",
       "      <th>author</th>\n",
       "      <th>content</th>\n",
       "    </tr>\n",
       "  </thead>\n",
       "  <tbody>\n",
       "    <tr>\n",
       "      <td>0</td>\n",
       "      <td>1956967341</td>\n",
       "      <td>empty</td>\n",
       "      <td>xoshayzers</td>\n",
       "      <td>@tiffanylue i know  i was listenin to bad habi...</td>\n",
       "    </tr>\n",
       "    <tr>\n",
       "      <td>1</td>\n",
       "      <td>1956967666</td>\n",
       "      <td>sadness</td>\n",
       "      <td>wannamama</td>\n",
       "      <td>Layin n bed with a headache  ughhhh...waitin o...</td>\n",
       "    </tr>\n",
       "    <tr>\n",
       "      <td>2</td>\n",
       "      <td>1956967696</td>\n",
       "      <td>sadness</td>\n",
       "      <td>coolfunky</td>\n",
       "      <td>Funeral ceremony...gloomy friday...</td>\n",
       "    </tr>\n",
       "    <tr>\n",
       "      <td>3</td>\n",
       "      <td>1956967789</td>\n",
       "      <td>enthusiasm</td>\n",
       "      <td>czareaquino</td>\n",
       "      <td>wants to hang out with friends SOON!</td>\n",
       "    </tr>\n",
       "    <tr>\n",
       "      <td>4</td>\n",
       "      <td>1956968416</td>\n",
       "      <td>neutral</td>\n",
       "      <td>xkilljoyx</td>\n",
       "      <td>@dannycastillo We want to trade with someone w...</td>\n",
       "    </tr>\n",
       "  </tbody>\n",
       "</table>\n",
       "</div>"
      ],
      "text/plain": [
       "     tweet_id   sentiment       author  \\\n",
       "0  1956967341       empty   xoshayzers   \n",
       "1  1956967666     sadness    wannamama   \n",
       "2  1956967696     sadness    coolfunky   \n",
       "3  1956967789  enthusiasm  czareaquino   \n",
       "4  1956968416     neutral    xkilljoyx   \n",
       "\n",
       "                                             content  \n",
       "0  @tiffanylue i know  i was listenin to bad habi...  \n",
       "1  Layin n bed with a headache  ughhhh...waitin o...  \n",
       "2                Funeral ceremony...gloomy friday...  \n",
       "3               wants to hang out with friends SOON!  \n",
       "4  @dannycastillo We want to trade with someone w...  "
      ]
     },
     "execution_count": 3,
     "metadata": {},
     "output_type": "execute_result"
    }
   ],
   "source": [
    "#import dataset\n",
    "dataset = pd.read_csv('data/text_emotion.csv')\n",
    "dataset.head()"
   ]
  },
  {
   "cell_type": "markdown",
   "metadata": {},
   "source": [
    "### Data Cleaning"
   ]
  },
  {
   "cell_type": "code",
   "execution_count": 70,
   "metadata": {},
   "outputs": [],
   "source": [
    "#Clean dataset\n",
    "def clean_text(txt):\n",
    "    txt = txt.lower()\n",
    "    txt = re.sub('\\W',' ', txt)#Remove non words\n",
    "    txt = re.sub('\\d',' ', txt)#Remove digits\n",
    "    txt = re.sub('\\s+[a-z]\\s+',' ', txt) #Remove single letters\n",
    "    txt = re.sub('\\s+',' ', txt) #Remove multi space\n",
    "    txt = re.sub('^\\s','', txt)#Remove space at start of text\n",
    "    txt = re.sub('$\\s','', txt)#Remove space at end of text\n",
    "    txt = txt.split()\n",
    "    txt = [_eachword for _eachword in txt if _eachword not in stop_words]\n",
    "    txt = [WordNetLemmatizer().lemmatize(_eachword) for _eachword in txt]\n",
    "    return ' '.join(txt)"
   ]
  },
  {
   "cell_type": "code",
   "execution_count": 71,
   "metadata": {},
   "outputs": [
    {
     "data": {
      "text/html": [
       "<div>\n",
       "<style scoped>\n",
       "    .dataframe tbody tr th:only-of-type {\n",
       "        vertical-align: middle;\n",
       "    }\n",
       "\n",
       "    .dataframe tbody tr th {\n",
       "        vertical-align: top;\n",
       "    }\n",
       "\n",
       "    .dataframe thead th {\n",
       "        text-align: right;\n",
       "    }\n",
       "</style>\n",
       "<table border=\"1\" class=\"dataframe\">\n",
       "  <thead>\n",
       "    <tr style=\"text-align: right;\">\n",
       "      <th></th>\n",
       "      <th>tweet_id</th>\n",
       "      <th>sentiment</th>\n",
       "      <th>author</th>\n",
       "      <th>content</th>\n",
       "      <th>encoded_sentiment</th>\n",
       "      <th>cleaned_review</th>\n",
       "    </tr>\n",
       "  </thead>\n",
       "  <tbody>\n",
       "    <tr>\n",
       "      <td>0</td>\n",
       "      <td>1956967341</td>\n",
       "      <td>empty</td>\n",
       "      <td>xoshayzers</td>\n",
       "      <td>@tiffanylue i know  i was listenin to bad habi...</td>\n",
       "      <td>2</td>\n",
       "      <td>tiffanylue know listenin bad habit earlier sta...</td>\n",
       "    </tr>\n",
       "    <tr>\n",
       "      <td>1</td>\n",
       "      <td>1956967666</td>\n",
       "      <td>sadness</td>\n",
       "      <td>wannamama</td>\n",
       "      <td>Layin n bed with a headache  ughhhh...waitin o...</td>\n",
       "      <td>10</td>\n",
       "      <td>layin bed headache ughhhh waitin call</td>\n",
       "    </tr>\n",
       "    <tr>\n",
       "      <td>2</td>\n",
       "      <td>1956967696</td>\n",
       "      <td>sadness</td>\n",
       "      <td>coolfunky</td>\n",
       "      <td>Funeral ceremony...gloomy friday...</td>\n",
       "      <td>10</td>\n",
       "      <td>funeral ceremony gloomy friday</td>\n",
       "    </tr>\n",
       "    <tr>\n",
       "      <td>3</td>\n",
       "      <td>1956967789</td>\n",
       "      <td>enthusiasm</td>\n",
       "      <td>czareaquino</td>\n",
       "      <td>wants to hang out with friends SOON!</td>\n",
       "      <td>3</td>\n",
       "      <td>want hang friend soon</td>\n",
       "    </tr>\n",
       "    <tr>\n",
       "      <td>4</td>\n",
       "      <td>1956968416</td>\n",
       "      <td>neutral</td>\n",
       "      <td>xkilljoyx</td>\n",
       "      <td>@dannycastillo We want to trade with someone w...</td>\n",
       "      <td>8</td>\n",
       "      <td>dannycastillo want trade someone houston ticke...</td>\n",
       "    </tr>\n",
       "  </tbody>\n",
       "</table>\n",
       "</div>"
      ],
      "text/plain": [
       "     tweet_id   sentiment       author  \\\n",
       "0  1956967341       empty   xoshayzers   \n",
       "1  1956967666     sadness    wannamama   \n",
       "2  1956967696     sadness    coolfunky   \n",
       "3  1956967789  enthusiasm  czareaquino   \n",
       "4  1956968416     neutral    xkilljoyx   \n",
       "\n",
       "                                             content  encoded_sentiment  \\\n",
       "0  @tiffanylue i know  i was listenin to bad habi...                  2   \n",
       "1  Layin n bed with a headache  ughhhh...waitin o...                 10   \n",
       "2                Funeral ceremony...gloomy friday...                 10   \n",
       "3               wants to hang out with friends SOON!                  3   \n",
       "4  @dannycastillo We want to trade with someone w...                  8   \n",
       "\n",
       "                                      cleaned_review  \n",
       "0  tiffanylue know listenin bad habit earlier sta...  \n",
       "1              layin bed headache ughhhh waitin call  \n",
       "2                     funeral ceremony gloomy friday  \n",
       "3                              want hang friend soon  \n",
       "4  dannycastillo want trade someone houston ticke...  "
      ]
     },
     "execution_count": 71,
     "metadata": {},
     "output_type": "execute_result"
    }
   ],
   "source": [
    "dataset['cleaned_review'] = dataset['content'].apply(lambda x: clean_text(x))\n",
    "dataset.head()"
   ]
  },
  {
   "cell_type": "markdown",
   "metadata": {},
   "source": [
    "### Encode the sentiment to values"
   ]
  },
  {
   "cell_type": "code",
   "execution_count": 5,
   "metadata": {},
   "outputs": [
    {
     "data": {
      "text/plain": [
       "0     2\n",
       "1    10\n",
       "2    10\n",
       "3     3\n",
       "4     8\n",
       "Name: encoded_sentiment, dtype: int64"
      ]
     },
     "execution_count": 5,
     "metadata": {},
     "output_type": "execute_result"
    }
   ],
   "source": [
    "le = LabelEncoder()\n",
    "dataset['encoded_sentiment'] = le.fit_transform(list(dataset['sentiment'].values))\n",
    "dataset['encoded_sentiment'].head()"
   ]
  },
  {
   "cell_type": "code",
   "execution_count": 6,
   "metadata": {},
   "outputs": [
    {
     "data": {
      "text/plain": [
       "sentiment   encoded_sentiment\n",
       "anger       0                     110\n",
       "boredom     1                     179\n",
       "empty       2                     827\n",
       "enthusiasm  3                     759\n",
       "fun         4                    1776\n",
       "happiness   5                    5209\n",
       "hate        6                    1323\n",
       "love        7                    3842\n",
       "neutral     8                    8638\n",
       "relief      9                    1526\n",
       "sadness     10                   5165\n",
       "surprise    11                   2187\n",
       "worry       12                   8459\n",
       "Name: content, dtype: int64"
      ]
     },
     "execution_count": 6,
     "metadata": {},
     "output_type": "execute_result"
    }
   ],
   "source": [
    "#Review the encoded values\n",
    "dataset.groupby(['sentiment', 'encoded_sentiment'])['content'].count()"
   ]
  },
  {
   "cell_type": "code",
   "execution_count": 16,
   "metadata": {},
   "outputs": [
    {
     "data": {
      "text/plain": [
       "{'anger': 0,\n",
       " 'boredom': 1,\n",
       " 'empty': 2,\n",
       " 'enthusiasm': 3,\n",
       " 'fun': 4,\n",
       " 'happiness': 5,\n",
       " 'hate': 6,\n",
       " 'love': 7,\n",
       " 'neutral': 8,\n",
       " 'relief': 9,\n",
       " 'sadness': 10,\n",
       " 'surprise': 11,\n",
       " 'worry': 12}"
      ]
     },
     "execution_count": 16,
     "metadata": {},
     "output_type": "execute_result"
    }
   ],
   "source": [
    "#Create a dict for encoded sentiment\n",
    "x = dataset.groupby(['sentiment', 'encoded_sentiment'])['content'].count()\n",
    "x = x.index\n",
    "dict_emotion={}\n",
    "for _each in x:\n",
    "    dict_emotion[_each[0]] = _each[1]\n",
    "dict_emotion"
   ]
  },
  {
   "cell_type": "markdown",
   "metadata": {},
   "source": [
    "### Create Word2Vect from GloVe"
   ]
  },
  {
   "cell_type": "code",
   "execution_count": 20,
   "metadata": {
    "scrolled": true
   },
   "outputs": [
    {
     "name": "stdout",
     "output_type": "stream",
     "text": [
      "Building word vector... Completed\n",
      "Total word vectors:  400000\n"
     ]
    }
   ],
   "source": [
    "print('Building word vector...', end='\\r')\n",
    "word2vec = {}\n",
    "glove = open('Glove/glove.6B/glove.6B.50d.txt', encoding='utf-8')\n",
    "for _eachline in glove:\n",
    "    _eachline = _eachline.split()\n",
    "    _word = _eachline[0]\n",
    "    _vector = np.asarray(_eachline[1:], dtype='float32')\n",
    "    if _word is not None:\n",
    "        word2vec[_word] = _vector\n",
    "glove.close()        \n",
    "\n",
    "print('Building word vector... Completed')\n",
    "print('Total word vectors: ', len(word2vec))"
   ]
  },
  {
   "cell_type": "markdown",
   "metadata": {},
   "source": [
    "### Build Tokenizer to transform Datasets"
   ]
  },
  {
   "cell_type": "code",
   "execution_count": 72,
   "metadata": {},
   "outputs": [],
   "source": [
    "tokenizer = Tokenizer(num_words=10000)\n",
    "tokenizer.fit_on_texts(dataset['cleaned_review'].values)"
   ]
  },
  {
   "cell_type": "code",
   "execution_count": 73,
   "metadata": {},
   "outputs": [
    {
     "name": "stdout",
     "output_type": "stream",
     "text": [
      "Tokenizer Vocab Length:  43036\n"
     ]
    }
   ],
   "source": [
    "word2idx = tokenizer.word_index\n",
    "print('Tokenizer Vocab Length: ', len(word2idx)+1)"
   ]
  },
  {
   "cell_type": "markdown",
   "metadata": {},
   "source": [
    "### Find Average and Max length of dataset"
   ]
  },
  {
   "cell_type": "code",
   "execution_count": 74,
   "metadata": {},
   "outputs": [
    {
     "name": "stdout",
     "output_type": "stream",
     "text": [
      "Average length of Review:  13.216875\n",
      "Max length of Review:  34\n"
     ]
    }
   ],
   "source": [
    "print('Average length of Review: ', dataset['content'].apply(lambda x: len(x.split())).mean())\n",
    "print('Max length of Review: ', dataset['content'].apply(lambda x: len(x.split())).max())"
   ]
  },
  {
   "cell_type": "markdown",
   "metadata": {},
   "source": [
    "### Split data into training and test set"
   ]
  },
  {
   "cell_type": "code",
   "execution_count": 75,
   "metadata": {},
   "outputs": [
    {
     "name": "stdout",
     "output_type": "stream",
     "text": [
      "Length of Training Set:  28000\n",
      "Length of Test Set:  12000\n"
     ]
    }
   ],
   "source": [
    "X_train, X_test, y_train, y_test = train_test_split(dataset['cleaned_review'].values, \n",
    "                                                    dataset['encoded_sentiment'], \n",
    "                                                    test_size=0.3, random_state=42)\n",
    "print('Length of Training Set: ', len(X_train))\n",
    "print('Length of Test Set: ', len(X_test))"
   ]
  },
  {
   "cell_type": "code",
   "execution_count": 76,
   "metadata": {},
   "outputs": [],
   "source": [
    "#Tokenize Training and Test dataset\n",
    "training_dataset = tokenizer.texts_to_sequences(X_train)\n",
    "testing_dataset = tokenizer.texts_to_sequences(X_test)"
   ]
  },
  {
   "cell_type": "code",
   "execution_count": 77,
   "metadata": {},
   "outputs": [],
   "source": [
    "#Lets pad the dataset to equal the length of sentence\n",
    "training_dataset = pad_sequences(training_dataset, maxlen=40, padding='post')\n",
    "testing_dataset = pad_sequences(testing_dataset, maxlen=40, padding='post')"
   ]
  },
  {
   "cell_type": "markdown",
   "metadata": {},
   "source": [
    "### Build the Embedding Matrix from words in dataset referencing in Glove"
   ]
  },
  {
   "cell_type": "code",
   "execution_count": 78,
   "metadata": {},
   "outputs": [
    {
     "name": "stdout",
     "output_type": "stream",
     "text": [
      "Embedding matrix created.\n"
     ]
    }
   ],
   "source": [
    "embedding_matrix = np.zeros((30000, 50)) #30000 - Total words vocab, 50 -Embedding size from glove\n",
    "\n",
    "for _word, _idx in word2idx.items():\n",
    "    if _idx < 30000 :\n",
    "        embed_vector = word2vec.get(_word)\n",
    "        if embed_vector is not None:\n",
    "            embedding_matrix[_idx] = embed_vector\n",
    "print('Embedding matrix created.')            "
   ]
  },
  {
   "cell_type": "code",
   "execution_count": 79,
   "metadata": {},
   "outputs": [
    {
     "data": {
      "text/plain": [
       "(30000, 50)"
      ]
     },
     "execution_count": 79,
     "metadata": {},
     "output_type": "execute_result"
    }
   ],
   "source": [
    "embedding_matrix.shape"
   ]
  },
  {
   "cell_type": "code",
   "execution_count": 80,
   "metadata": {},
   "outputs": [
    {
     "data": {
      "text/plain": [
       "array([ 0.43360001,  1.07270002, -0.6196    , -0.80678999,  1.25189996,\n",
       "        1.37670004, -0.93532997,  0.76087999, -0.0056654 , -0.063649  ,\n",
       "        0.30296999,  0.52401   ,  0.2843    , -0.38161999,  0.98796999,\n",
       "        0.093184  , -1.14639997,  0.070523  ,  0.58012003,  0.50643998,\n",
       "       -0.24026   ,  1.73440003,  0.020735  ,  0.43704   ,  1.2148    ,\n",
       "       -2.24830008, -0.41168001, -0.24922   ,  0.31224999, -0.49463999,\n",
       "        2.04410005, -0.012111  , -0.19555999,  0.085665  ,  0.27682   ,\n",
       "        0.015702  ,  0.0067683 ,  0.12759   ,  0.87007999, -0.40641001,\n",
       "       -0.21056999,  0.41650999, -0.021812  , -0.53649002,  0.54095   ,\n",
       "       -0.43441999, -0.52489001, -2.02769995,  0.13135999,  0.11704   ])"
      ]
     },
     "execution_count": 80,
     "metadata": {},
     "output_type": "execute_result"
    }
   ],
   "source": [
    "embedding_matrix[22]"
   ]
  },
  {
   "cell_type": "markdown",
   "metadata": {},
   "source": [
    "### LSTM Model Building"
   ]
  },
  {
   "cell_type": "code",
   "execution_count": 157,
   "metadata": {},
   "outputs": [],
   "source": [
    "model = Sequential()"
   ]
  },
  {
   "cell_type": "code",
   "execution_count": 158,
   "metadata": {},
   "outputs": [],
   "source": [
    "model.add(Embedding(30000, 50, weights=[embedding_matrix], trainable=False, input_length=40))"
   ]
  },
  {
   "cell_type": "code",
   "execution_count": 159,
   "metadata": {},
   "outputs": [],
   "source": [
    "model.add(Bidirectional(LSTM(32, return_sequences=True)))"
   ]
  },
  {
   "cell_type": "code",
   "execution_count": 160,
   "metadata": {},
   "outputs": [],
   "source": [
    "model.add(LSTM(64, return_sequences=True))"
   ]
  },
  {
   "cell_type": "code",
   "execution_count": 161,
   "metadata": {},
   "outputs": [],
   "source": [
    "model.add(GlobalMaxPool1D())"
   ]
  },
  {
   "cell_type": "code",
   "execution_count": 162,
   "metadata": {},
   "outputs": [],
   "source": [
    "model.add(Dropout(0.05))"
   ]
  },
  {
   "cell_type": "code",
   "execution_count": 163,
   "metadata": {},
   "outputs": [],
   "source": [
    "model.add(Dense(128, activation='relu'))"
   ]
  },
  {
   "cell_type": "code",
   "execution_count": 164,
   "metadata": {},
   "outputs": [],
   "source": [
    "model.add(Dense(len(dict_emotion), activation='softmax'))"
   ]
  },
  {
   "cell_type": "code",
   "execution_count": 165,
   "metadata": {},
   "outputs": [],
   "source": [
    "model.compile(optimizer='sgd', loss='sparse_categorical_crossentropy', metrics=['accuracy'])"
   ]
  },
  {
   "cell_type": "code",
   "execution_count": 166,
   "metadata": {},
   "outputs": [],
   "source": [
    "mcheckpt = ModelCheckpoint('EmotionalAnalysis_0227.hdf5', monitor='val_acc', save_best_only=True)"
   ]
  },
  {
   "cell_type": "code",
   "execution_count": 167,
   "metadata": {},
   "outputs": [],
   "source": [
    "estopping = EarlyStopping(monitor='val_acc', min_delta=0.01, patience=3)"
   ]
  },
  {
   "cell_type": "code",
   "execution_count": 168,
   "metadata": {},
   "outputs": [
    {
     "name": "stdout",
     "output_type": "stream",
     "text": [
      "Train on 28000 samples, validate on 12000 samples\n",
      "Epoch 1/50\n",
      "28000/28000 [==============================] - 71s 3ms/step - loss: 2.2498 - acc: 0.2261 - val_loss: 2.1580 - val_acc: 0.2532\n",
      "Epoch 2/50\n",
      "28000/28000 [==============================] - 68s 2ms/step - loss: 2.1434 - acc: 0.2524 - val_loss: 2.1431 - val_acc: 0.2510\n",
      "Epoch 3/50\n",
      "28000/28000 [==============================] - 65s 2ms/step - loss: 2.1321 - acc: 0.2574 - val_loss: 2.1354 - val_acc: 0.2558\n",
      "Epoch 4/50\n",
      "28000/28000 [==============================] - 64s 2ms/step - loss: 2.1251 - acc: 0.2582 - val_loss: 2.1282 - val_acc: 0.2555\n"
     ]
    }
   ],
   "source": [
    "history = model.fit(training_dataset, y_train, epochs=50, batch_size=32, \n",
    "                    validation_data = (testing_dataset, y_test), callbacks=[mcheckpt, estopping], verbose=1);"
   ]
  },
  {
   "cell_type": "markdown",
   "metadata": {},
   "source": [
    "### Plotting the model training"
   ]
  },
  {
   "cell_type": "code",
   "execution_count": 169,
   "metadata": {
    "scrolled": true
   },
   "outputs": [
    {
     "data": {
      "image/png": "[encoded data removed]",
      "text/plain": [
       "<Figure size 1296x288 with 2 Axes>"
      ]
     },
     "metadata": {
      "needs_background": "light"
     },
     "output_type": "display_data"
    }
   ],
   "source": [
    "grid = plt.GridSpec(4,6)\n",
    "plt.subplots(figsize=(18,4))\n",
    "\n",
    "#plot 1\n",
    "plt.subplot(grid[:,:1])\n",
    "plt.plot(history.epoch, history.history['loss'], 'bo-', label='Training Loss')\n",
    "plt.plot(history.epoch, history.history['val_loss'], 'go-', label='Validation Loss')\n",
    "plt.xticks(range(4))\n",
    "plt.legend(loc='best')\n",
    "plt.title('Loss')\n",
    "\n",
    "#Plot 2\n",
    "plt.subplot(grid[:,2:])\n",
    "plt.plot(history.epoch, history.history['acc'], 'bo-', label='Training Accuracy')\n",
    "plt.plot(history.epoch, history.history['val_acc'], 'go-', label='Validation Accuracy')\n",
    "plt.xticks(history.epoch)\n",
    "plt.title('Accuracy')\n",
    "plt.legend(loc='best')\n",
    "plt.show();"
   ]
  },
  {
   "cell_type": "markdown",
   "metadata": {},
   "source": [
    "---"
   ]
  },
  {
   "cell_type": "code",
   "execution_count": 95,
   "metadata": {},
   "outputs": [
    {
     "data": {
      "image/png": "[encoded data removed]",
      "text/plain": [
       "<Figure size 576x360 with 1 Axes>"
      ]
     },
     "metadata": {
      "needs_background": "light"
     },
     "output_type": "display_data"
    }
   ],
   "source": [
    "plt.figure(figsize=(8, 5))\n",
    "plt.plot(history.epoch, history.history['loss'], 'bo-', label='Training Loss')\n",
    "plt.plot(history.epoch, history.history['val_loss'], 'go-', label='Validation Loss')\n",
    "plt.legend(loc='best')\n",
    "plt.show();"
   ]
  },
  {
   "cell_type": "code",
   "execution_count": 97,
   "metadata": {},
   "outputs": [
    {
     "data": {
      "image/png": "[encoded data removed]",
      "text/plain": [
       "<Figure size 576x360 with 1 Axes>"
      ]
     },
     "metadata": {
      "needs_background": "light"
     },
     "output_type": "display_data"
    }
   ],
   "source": [
    "plt.figure(figsize=(8, 5))\n",
    "plt.plot(history.epoch, history.history['acc'], 'bo-', label='Training Acc')\n",
    "plt.plot(history.epoch, history.history['val_acc'], 'go-', label='Validation Acc')\n",
    "plt.legend(loc='best')\n",
    "plt.show();"
   ]
  },
  {
   "cell_type": "code",
   "execution_count": null,
   "metadata": {},
   "outputs": [],
   "source": []
  }
 ],
 "metadata": {
  "kernelspec": {
   "display_name": "Python 3",
   "language": "python",
   "name": "python3"
  },
  "language_info": {
   "codemirror_mode": {
    "name": "ipython",
    "version": 3
   },
   "file_extension": ".py",
   "mimetype": "text/x-python",
   "name": "python",
   "nbconvert_exporter": "python",
   "pygments_lexer": "ipython3",
   "version": "3.7.1"
  }
 },
 "nbformat": 4,
 "nbformat_minor": 2
}
